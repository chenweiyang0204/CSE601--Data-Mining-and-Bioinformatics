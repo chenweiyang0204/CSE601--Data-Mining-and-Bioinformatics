{
 "cells": [
  {
   "cell_type": "code",
   "execution_count": 1,
   "metadata": {},
   "outputs": [],
   "source": [
    "import numpy as np\n",
    "from numpy import linalg as LA\n",
    "import matplotlib.pyplot as plt\n",
    "from sklearn.manifold import TSNE"
   ]
  },
  {
   "cell_type": "code",
   "execution_count": null,
   "metadata": {},
   "outputs": [],
   "source": [
    "def matrix(file):\n",
    "    # contents = open(file).read()\n",
    "    # M = np.array([item.split() for item in contents.split('\\n')[:-1]])\n",
    "\n",
    "    contents = open(file, 'r')\n",
    "    firstLine = contents.readline().split()\n",
    "    contents.close()\n",
    "\n",
    "    num = [i for i in range(len(firstLine)-1)]\n",
    "\n",
    "    data = np.genfromtxt(file, usecols=num)\n",
    "    N = np.genfromtxt(file,usecols=(len(firstLine)-1),dtype='str')\n",
    "\n",
    "    return data, N"
   ]
  }
 ],
 "metadata": {
  "kernelspec": {
   "display_name": "Python 3",
   "language": "python",
   "name": "python3"
  },
  "language_info": {
   "codemirror_mode": {
    "name": "ipython",
    "version": 3
   },
   "file_extension": ".py",
   "mimetype": "text/x-python",
   "name": "python",
   "nbconvert_exporter": "python",
   "pygments_lexer": "ipython3",
   "version": "3.7.1"
  }
 },
 "nbformat": 4,
 "nbformat_minor": 2
}
